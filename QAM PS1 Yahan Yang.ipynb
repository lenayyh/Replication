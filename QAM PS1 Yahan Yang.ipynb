{
 "cells": [
  {
   "cell_type": "code",
   "execution_count": 1,
   "id": "78c25926-0927-4be0-8dd2-684c924a50b0",
   "metadata": {
    "tags": []
   },
   "outputs": [],
   "source": [
    "import os\n",
    "import pandas as pd\n",
    "import numpy as np\n",
    "import wrds\n",
    "from random import *\n",
    "from dateutil.relativedelta import *\n",
    "from pandas.tseries.offsets import *\n",
    "from scipy import stats\n",
    "import matplotlib.pyplot as plt\n",
    "import pandas_datareader\n",
    "import datetime\n",
    "import warnings\n",
    "warnings.filterwarnings('ignore', category=FutureWarning)"
   ]
  },
  {
   "cell_type": "code",
   "execution_count": 2,
   "id": "deb9048e-9afd-4921-a4fb-274763ba5c91",
   "metadata": {
    "tags": []
   },
   "outputs": [],
   "source": [
    "data_folder = '/Users/chengxinxiangye/Desktop/Quant Asset/' \n",
    "id_wrds = 'yahan123456'  \n",
    "possible_exchcd = (1, 2, 3)\n",
    "possible_shrcd = (10,11)"
   ]
  },
  {
   "cell_type": "code",
   "execution_count": 4,
   "id": "a6998fc5-5f06-4770-b667-93898f4cc55e",
   "metadata": {},
   "outputs": [
    {
     "ename": "KeyboardInterrupt",
     "evalue": "Interrupted by user",
     "output_type": "error",
     "traceback": [
      "\u001b[0;31m---------------------------------------------------------------------------\u001b[0m",
      "\u001b[0;31mKeyboardInterrupt\u001b[0m                         Traceback (most recent call last)",
      "Cell \u001b[0;32mIn[4], line 2\u001b[0m\n\u001b[1;32m      1\u001b[0m \u001b[38;5;66;03m# Establish a connection to WRDS\u001b[39;00m\n\u001b[0;32m----> 2\u001b[0m conn \u001b[38;5;241m=\u001b[39m \u001b[43mwrds\u001b[49m\u001b[38;5;241;43m.\u001b[39;49m\u001b[43mConnection\u001b[49m\u001b[43m(\u001b[49m\u001b[43mwrds_username\u001b[49m\u001b[38;5;241;43m=\u001b[39;49m\u001b[38;5;124;43m'\u001b[39;49m\u001b[38;5;124;43mwrds_id\u001b[39;49m\u001b[38;5;124;43m'\u001b[39;49m\u001b[43m)\u001b[49m\n\u001b[1;32m      4\u001b[0m \u001b[38;5;66;03m# Load CRSP returns and change variables format\u001b[39;00m\n\u001b[1;32m      5\u001b[0m crsp_raw \u001b[38;5;241m=\u001b[39m conn\u001b[38;5;241m.\u001b[39mraw_sql(\u001b[38;5;124m\"\"\"\u001b[39m\n\u001b[1;32m      6\u001b[0m \u001b[38;5;124m    select a.permno, a.date, b.shrcd, b.exchcd, \u001b[39m\n\u001b[1;32m      7\u001b[0m \u001b[38;5;124m    a.ret, a.prc, a.shrout\u001b[39m\n\u001b[0;32m   (...)\u001b[0m\n\u001b[1;32m     13\u001b[0m \u001b[38;5;124m    where a.date between \u001b[39m\u001b[38;5;124m'\u001b[39m\u001b[38;5;124m01/01/1900\u001b[39m\u001b[38;5;124m'\u001b[39m\u001b[38;5;124m and \u001b[39m\u001b[38;5;124m'\u001b[39m\u001b[38;5;124m12/31/2023\u001b[39m\u001b[38;5;124m'\u001b[39m\n\u001b[1;32m     14\u001b[0m \u001b[38;5;124m\"\"\"\u001b[39m)\n",
      "File \u001b[0;32m/Library/Frameworks/Python.framework/Versions/3.11/lib/python3.11/site-packages/wrds/sql.py:75\u001b[0m, in \u001b[0;36mConnection.__init__\u001b[0;34m(self, autoconnect, verbose, **kwargs)\u001b[0m\n\u001b[1;32m     72\u001b[0m \u001b[38;5;28mself\u001b[39m\u001b[38;5;241m.\u001b[39m_connect_args \u001b[38;5;241m=\u001b[39m kwargs\u001b[38;5;241m.\u001b[39mget(\u001b[38;5;124m\"\u001b[39m\u001b[38;5;124mwrds_connect_args\u001b[39m\u001b[38;5;124m\"\u001b[39m, WRDS_CONNECT_ARGS)\n\u001b[1;32m     74\u001b[0m \u001b[38;5;28;01mif\u001b[39;00m autoconnect:\n\u001b[0;32m---> 75\u001b[0m     \u001b[38;5;28;43mself\u001b[39;49m\u001b[38;5;241;43m.\u001b[39;49m\u001b[43mconnect\u001b[49m\u001b[43m(\u001b[49m\u001b[43m)\u001b[49m\n\u001b[1;32m     76\u001b[0m     \u001b[38;5;28mself\u001b[39m\u001b[38;5;241m.\u001b[39mload_library_list()\n",
      "File \u001b[0;32m/Library/Frameworks/Python.framework/Versions/3.11/lib/python3.11/site-packages/wrds/sql.py:114\u001b[0m, in \u001b[0;36mConnection.connect\u001b[0;34m(self)\u001b[0m\n\u001b[1;32m    110\u001b[0m     \u001b[38;5;28mself\u001b[39m\u001b[38;5;241m.\u001b[39m__make_sa_engine_conn()\n\u001b[1;32m    112\u001b[0m \u001b[38;5;28;01mif\u001b[39;00m (\u001b[38;5;28mself\u001b[39m\u001b[38;5;241m.\u001b[39mengine \u001b[38;5;129;01mis\u001b[39;00m \u001b[38;5;28;01mNone\u001b[39;00m):\n\u001b[1;32m    113\u001b[0m     \u001b[38;5;66;03m# Use explicit username and password\u001b[39;00m\n\u001b[0;32m--> 114\u001b[0m     \u001b[38;5;28mself\u001b[39m\u001b[38;5;241m.\u001b[39m_username, \u001b[38;5;28mself\u001b[39m\u001b[38;5;241m.\u001b[39m_password \u001b[38;5;241m=\u001b[39m \u001b[38;5;28;43mself\u001b[39;49m\u001b[38;5;241;43m.\u001b[39;49m\u001b[43m__get_user_credentials\u001b[49m\u001b[43m(\u001b[49m\u001b[43m)\u001b[49m\n\u001b[1;32m    115\u001b[0m     \u001b[38;5;66;03m# Last attempt, raise error if Exception encountered\u001b[39;00m\n\u001b[1;32m    116\u001b[0m     \u001b[38;5;28mself\u001b[39m\u001b[38;5;241m.\u001b[39m__make_sa_engine_conn(raise_err\u001b[38;5;241m=\u001b[39m\u001b[38;5;28;01mTrue\u001b[39;00m)\n",
      "File \u001b[0;32m/Library/Frameworks/Python.framework/Versions/3.11/lib/python3.11/site-packages/wrds/sql.py:215\u001b[0m, in \u001b[0;36mConnection.__get_user_credentials\u001b[0;34m(self)\u001b[0m\n\u001b[1;32m    213\u001b[0m \u001b[38;5;28;01melse\u001b[39;00m:\n\u001b[1;32m    214\u001b[0m     uname \u001b[38;5;241m=\u001b[39m getpass\u001b[38;5;241m.\u001b[39mgetuser()\n\u001b[0;32m--> 215\u001b[0m username \u001b[38;5;241m=\u001b[39m \u001b[38;5;28;43minput\u001b[39;49m\u001b[43m(\u001b[49m\u001b[38;5;124;43m\"\u001b[39;49m\u001b[38;5;124;43mEnter your WRDS username [\u001b[39;49m\u001b[38;5;132;43;01m{}\u001b[39;49;00m\u001b[38;5;124;43m]:\u001b[39;49m\u001b[38;5;124;43m\"\u001b[39;49m\u001b[38;5;241;43m.\u001b[39;49m\u001b[43mformat\u001b[49m\u001b[43m(\u001b[49m\u001b[43muname\u001b[49m\u001b[43m)\u001b[49m\u001b[43m)\u001b[49m\n\u001b[1;32m    216\u001b[0m \u001b[38;5;28;01mif\u001b[39;00m \u001b[38;5;129;01mnot\u001b[39;00m username:\n\u001b[1;32m    217\u001b[0m     username \u001b[38;5;241m=\u001b[39m uname\n",
      "File \u001b[0;32m~/Library/Python/3.11/lib/python/site-packages/ipykernel/kernelbase.py:1282\u001b[0m, in \u001b[0;36mKernel.raw_input\u001b[0;34m(self, prompt)\u001b[0m\n\u001b[1;32m   1280\u001b[0m     msg \u001b[38;5;241m=\u001b[39m \u001b[38;5;124m\"\u001b[39m\u001b[38;5;124mraw_input was called, but this frontend does not support input requests.\u001b[39m\u001b[38;5;124m\"\u001b[39m\n\u001b[1;32m   1281\u001b[0m     \u001b[38;5;28;01mraise\u001b[39;00m StdinNotImplementedError(msg)\n\u001b[0;32m-> 1282\u001b[0m \u001b[38;5;28;01mreturn\u001b[39;00m \u001b[38;5;28;43mself\u001b[39;49m\u001b[38;5;241;43m.\u001b[39;49m\u001b[43m_input_request\u001b[49m\u001b[43m(\u001b[49m\n\u001b[1;32m   1283\u001b[0m \u001b[43m    \u001b[49m\u001b[38;5;28;43mstr\u001b[39;49m\u001b[43m(\u001b[49m\u001b[43mprompt\u001b[49m\u001b[43m)\u001b[49m\u001b[43m,\u001b[49m\n\u001b[1;32m   1284\u001b[0m \u001b[43m    \u001b[49m\u001b[38;5;28;43mself\u001b[39;49m\u001b[38;5;241;43m.\u001b[39;49m\u001b[43m_parent_ident\u001b[49m\u001b[43m[\u001b[49m\u001b[38;5;124;43m\"\u001b[39;49m\u001b[38;5;124;43mshell\u001b[39;49m\u001b[38;5;124;43m\"\u001b[39;49m\u001b[43m]\u001b[49m\u001b[43m,\u001b[49m\n\u001b[1;32m   1285\u001b[0m \u001b[43m    \u001b[49m\u001b[38;5;28;43mself\u001b[39;49m\u001b[38;5;241;43m.\u001b[39;49m\u001b[43mget_parent\u001b[49m\u001b[43m(\u001b[49m\u001b[38;5;124;43m\"\u001b[39;49m\u001b[38;5;124;43mshell\u001b[39;49m\u001b[38;5;124;43m\"\u001b[39;49m\u001b[43m)\u001b[49m\u001b[43m,\u001b[49m\n\u001b[1;32m   1286\u001b[0m \u001b[43m    \u001b[49m\u001b[43mpassword\u001b[49m\u001b[38;5;241;43m=\u001b[39;49m\u001b[38;5;28;43;01mFalse\u001b[39;49;00m\u001b[43m,\u001b[49m\n\u001b[1;32m   1287\u001b[0m \u001b[43m\u001b[49m\u001b[43m)\u001b[49m\n",
      "File \u001b[0;32m~/Library/Python/3.11/lib/python/site-packages/ipykernel/kernelbase.py:1325\u001b[0m, in \u001b[0;36mKernel._input_request\u001b[0;34m(self, prompt, ident, parent, password)\u001b[0m\n\u001b[1;32m   1322\u001b[0m \u001b[38;5;28;01mexcept\u001b[39;00m \u001b[38;5;167;01mKeyboardInterrupt\u001b[39;00m:\n\u001b[1;32m   1323\u001b[0m     \u001b[38;5;66;03m# re-raise KeyboardInterrupt, to truncate traceback\u001b[39;00m\n\u001b[1;32m   1324\u001b[0m     msg \u001b[38;5;241m=\u001b[39m \u001b[38;5;124m\"\u001b[39m\u001b[38;5;124mInterrupted by user\u001b[39m\u001b[38;5;124m\"\u001b[39m\n\u001b[0;32m-> 1325\u001b[0m     \u001b[38;5;28;01mraise\u001b[39;00m \u001b[38;5;167;01mKeyboardInterrupt\u001b[39;00m(msg) \u001b[38;5;28;01mfrom\u001b[39;00m \u001b[38;5;28;01mNone\u001b[39;00m\n\u001b[1;32m   1326\u001b[0m \u001b[38;5;28;01mexcept\u001b[39;00m \u001b[38;5;167;01mException\u001b[39;00m:\n\u001b[1;32m   1327\u001b[0m     \u001b[38;5;28mself\u001b[39m\u001b[38;5;241m.\u001b[39mlog\u001b[38;5;241m.\u001b[39mwarning(\u001b[38;5;124m\"\u001b[39m\u001b[38;5;124mInvalid Message:\u001b[39m\u001b[38;5;124m\"\u001b[39m, exc_info\u001b[38;5;241m=\u001b[39m\u001b[38;5;28;01mTrue\u001b[39;00m)\n",
      "\u001b[0;31mKeyboardInterrupt\u001b[0m: Interrupted by user"
     ]
    }
   ],
   "source": [
    "# Establish a connection to WRDS\n",
    "conn = wrds.Connection(wrds_username='wrds_id')\n",
    "\n",
    "# Load CRSP returns and change variables format\n",
    "crsp_raw = conn.raw_sql(\"\"\"\n",
    "    select a.permno, a.date, b.shrcd, b.exchcd, \n",
    "    a.ret, a.prc, a.shrout\n",
    "    from crspq.msf as a\n",
    "    left join crsp.msenames as b\n",
    "    on a.permno=b.permno\n",
    "    and b.namedt<=a.date\n",
    "    and a.date<=b.nameendt\n",
    "    where a.date between '01/01/1900' and '12/31/2023'\n",
    "\"\"\")\n",
    "\n",
    "# Sort data\n",
    "crsp_raw = crsp_raw.sort_values(['permno', 'date']).reset_index(drop=True).copy()\n",
    "\n",
    "# Set date column to datetime\n",
    "crsp_raw['date'] = pd.to_datetime(crsp_raw['date'], format='%Y-%m-%d', errors='ignore') + MonthEnd(0)\n",
    "\n",
    "# Store data to data folder\n",
    "crsp_raw.to_pickle(data_folder + 'crsp_raw.pkl')\n",
    "dlret_raw = conn.raw_sql(\"\"\"\n",
    "    select permno, dlret, dlstdt, dlstcd\n",
    "    from crspq.msedelist\n",
    "\"\"\")\n",
    "\n",
    "# Set date column to datetime\n",
    "dlret_raw['date'] = pd.to_datetime(dlret_raw['dlstdt'])+ MonthEnd(0)\n",
    "\n",
    "# Store data to data folder\n",
    "dlret_raw.to_pickle(data_folder + 'dlret_raw.pkl')"
   ]
  },
  {
   "cell_type": "code",
   "execution_count": 4,
   "id": "d1785ef4-5b0a-4c98-837b-9e2ea267167d",
   "metadata": {},
   "outputs": [],
   "source": [
    "dlret_raw = conn.raw_sql(\"\"\"\n",
    "    select permno, dlret, dlstdt, dlstcd\n",
    "    from crspq.msedelist\n",
    "\"\"\")\n",
    "\n",
    "# Set date column to datetime\n",
    "dlret_raw['date'] = pd.to_datetime(dlret_raw['dlstdt'])+ MonthEnd(0)\n",
    "\n",
    "# Store data to data folder\n",
    "dlret_raw.to_pickle(data_folder + 'dlret_raw.pkl')"
   ]
  },
  {
   "cell_type": "code",
   "execution_count": 8,
   "id": "8927e3f5-ec59-4948-a214-47f9d94c6c09",
   "metadata": {
    "tags": []
   },
   "outputs": [],
   "source": [
    "#Load Data from folder\n",
    "dcrsp_raw = pd.read_pickle(data_folder + 'crsp_raw.pkl')\n",
    "\n",
    "# Makesure data is in numeric type\n",
    "dcrsp_raw['permno'] = dcrsp_raw['permno'].astype(int)\n",
    "\n",
    "# Load CRSP Deslisting returns\n",
    "dlret_raw = pd.read_pickle(data_folder + 'dlret_raw.pkl')\n",
    "\n",
    "dlret_raw['date'] = pd.to_datetime(dlret_raw['dlstdt'])+ MonthEnd(0)\n",
    "# Makesure data is in numeric type\n",
    "dlret_raw['permno'] = dlret_raw['permno'].astype(int)\n",
    "\n",
    "# Merge for input\n",
    "dcrsp = dcrsp_raw.merge(dlret_raw[['dlret','date','permno']], how='left', on=['permno','date'])\n",
    "dcrsp1 = dcrsp[['permno','date','exchcd','ret','dlret','prc','shrout']].copy()"
   ]
  },
  {
   "cell_type": "code",
   "execution_count": 10,
   "id": "40daada8-36d1-4a64-a3ec-46bfab189529",
   "metadata": {
    "tags": []
   },
   "outputs": [
    {
     "data": {
      "text/html": [
       "<div>\n",
       "<style scoped>\n",
       "    .dataframe tbody tr th:only-of-type {\n",
       "        vertical-align: middle;\n",
       "    }\n",
       "\n",
       "    .dataframe tbody tr th {\n",
       "        vertical-align: top;\n",
       "    }\n",
       "\n",
       "    .dataframe thead th {\n",
       "        text-align: right;\n",
       "    }\n",
       "</style>\n",
       "<table border=\"1\" class=\"dataframe\">\n",
       "  <thead>\n",
       "    <tr style=\"text-align: right;\">\n",
       "      <th></th>\n",
       "      <th>permno</th>\n",
       "      <th>date</th>\n",
       "      <th>exchcd</th>\n",
       "      <th>ret</th>\n",
       "      <th>dlret</th>\n",
       "      <th>prc</th>\n",
       "      <th>shrout</th>\n",
       "    </tr>\n",
       "  </thead>\n",
       "  <tbody>\n",
       "    <tr>\n",
       "      <th>0</th>\n",
       "      <td>10000</td>\n",
       "      <td>1986-01-31</td>\n",
       "      <td>3</td>\n",
       "      <td>NaN</td>\n",
       "      <td>NaN</td>\n",
       "      <td>-4.37500</td>\n",
       "      <td>3680.0</td>\n",
       "    </tr>\n",
       "    <tr>\n",
       "      <th>1</th>\n",
       "      <td>10000</td>\n",
       "      <td>1986-02-28</td>\n",
       "      <td>3</td>\n",
       "      <td>-0.257143</td>\n",
       "      <td>NaN</td>\n",
       "      <td>-3.25000</td>\n",
       "      <td>3680.0</td>\n",
       "    </tr>\n",
       "    <tr>\n",
       "      <th>2</th>\n",
       "      <td>10000</td>\n",
       "      <td>1986-03-31</td>\n",
       "      <td>3</td>\n",
       "      <td>0.365385</td>\n",
       "      <td>NaN</td>\n",
       "      <td>-4.43750</td>\n",
       "      <td>3680.0</td>\n",
       "    </tr>\n",
       "    <tr>\n",
       "      <th>3</th>\n",
       "      <td>10000</td>\n",
       "      <td>1986-04-30</td>\n",
       "      <td>3</td>\n",
       "      <td>-0.098592</td>\n",
       "      <td>NaN</td>\n",
       "      <td>-4.00000</td>\n",
       "      <td>3793.0</td>\n",
       "    </tr>\n",
       "    <tr>\n",
       "      <th>4</th>\n",
       "      <td>10000</td>\n",
       "      <td>1986-05-30</td>\n",
       "      <td>3</td>\n",
       "      <td>-0.222656</td>\n",
       "      <td>NaN</td>\n",
       "      <td>-3.10938</td>\n",
       "      <td>3793.0</td>\n",
       "    </tr>\n",
       "    <tr>\n",
       "      <th>...</th>\n",
       "      <td>...</td>\n",
       "      <td>...</td>\n",
       "      <td>...</td>\n",
       "      <td>...</td>\n",
       "      <td>...</td>\n",
       "      <td>...</td>\n",
       "      <td>...</td>\n",
       "    </tr>\n",
       "    <tr>\n",
       "      <th>3772178</th>\n",
       "      <td>93436</td>\n",
       "      <td>2023-11-30</td>\n",
       "      <td>3</td>\n",
       "      <td>0.195379</td>\n",
       "      <td>NaN</td>\n",
       "      <td>240.08000</td>\n",
       "      <td>3178921.0</td>\n",
       "    </tr>\n",
       "    <tr>\n",
       "      <th>3772179</th>\n",
       "      <td>93436</td>\n",
       "      <td>2023-12-29</td>\n",
       "      <td>3</td>\n",
       "      <td>0.034988</td>\n",
       "      <td>NaN</td>\n",
       "      <td>248.48000</td>\n",
       "      <td>3185000.0</td>\n",
       "    </tr>\n",
       "    <tr>\n",
       "      <th>3772180</th>\n",
       "      <td>93436</td>\n",
       "      <td>2024-01-31</td>\n",
       "      <td>3</td>\n",
       "      <td>-0.246257</td>\n",
       "      <td>NaN</td>\n",
       "      <td>187.28999</td>\n",
       "      <td>3184790.0</td>\n",
       "    </tr>\n",
       "    <tr>\n",
       "      <th>3772181</th>\n",
       "      <td>93436</td>\n",
       "      <td>2024-02-29</td>\n",
       "      <td>3</td>\n",
       "      <td>0.077901</td>\n",
       "      <td>NaN</td>\n",
       "      <td>201.88000</td>\n",
       "      <td>3184790.0</td>\n",
       "    </tr>\n",
       "    <tr>\n",
       "      <th>3772182</th>\n",
       "      <td>93436</td>\n",
       "      <td>2024-03-28</td>\n",
       "      <td>3</td>\n",
       "      <td>-0.129235</td>\n",
       "      <td>NaN</td>\n",
       "      <td>175.78999</td>\n",
       "      <td>3184790.0</td>\n",
       "    </tr>\n",
       "  </tbody>\n",
       "</table>\n",
       "<p>3772183 rows × 7 columns</p>\n",
       "</div>"
      ],
      "text/plain": [
       "         permno       date  exchcd       ret  dlret        prc     shrout\n",
       "0         10000 1986-01-31       3       NaN    NaN   -4.37500     3680.0\n",
       "1         10000 1986-02-28       3 -0.257143    NaN   -3.25000     3680.0\n",
       "2         10000 1986-03-31       3  0.365385    NaN   -4.43750     3680.0\n",
       "3         10000 1986-04-30       3 -0.098592    NaN   -4.00000     3793.0\n",
       "4         10000 1986-05-30       3 -0.222656    NaN   -3.10938     3793.0\n",
       "...         ...        ...     ...       ...    ...        ...        ...\n",
       "3772178   93436 2023-11-30       3  0.195379    NaN  240.08000  3178921.0\n",
       "3772179   93436 2023-12-29       3  0.034988    NaN  248.48000  3185000.0\n",
       "3772180   93436 2024-01-31       3 -0.246257    NaN  187.28999  3184790.0\n",
       "3772181   93436 2024-02-29       3  0.077901    NaN  201.88000  3184790.0\n",
       "3772182   93436 2024-03-28       3 -0.129235    NaN  175.78999  3184790.0\n",
       "\n",
       "[3772183 rows x 7 columns]"
      ]
     },
     "execution_count": 10,
     "metadata": {},
     "output_type": "execute_result"
    }
   ],
   "source": [
    "CRSP_Stocks = dcrsp1.copy()\n",
    "CRSP_Stocks"
   ]
  },
  {
   "cell_type": "code",
   "execution_count": 7,
   "id": "c9af0fe1-f8fb-4419-8249-c6ae227449cf",
   "metadata": {
    "tags": []
   },
   "outputs": [],
   "source": [
    "def PS1_Q1(dcrsp):\n",
    "    # Filter data by SHRCD, EXCHCD, and date\n",
    "    dcrsp=dcrsp[dcrsp['exchcd'].isin(possible_exchcd)]\n",
    "    dcrsp=dcrsp[dcrsp['shrcd'].isin(possible_shrcd)]\n",
    "    \n",
    "    #dcrsp['permno'] = dcrsp['permno'].astype(int)\n",
    "    # Adjust delisting return\n",
    "    # 1. If both delisting and holding period return are not NA, calculate return using both\n",
    "    dcrsp['ret'] = np.where(dcrsp['ret'].notna() & dcrsp['dlret'].notna(), \n",
    "                        (1+dcrsp['ret'])*(1+dcrsp['dlret'])-1, dcrsp['ret'])\n",
    "    # 2. If holding period return is NA and delisting return is not NA, set return to be delisting return\n",
    "    dcrsp['ret'] = np.where(dcrsp['ret'].isna()  & dcrsp['dlret'].notna(), dcrsp['dlret'], dcrsp['ret'])\n",
    "    # 3. Dropping missing returns\n",
    "    dcrsp = dcrsp[dcrsp['ret'].notna()].copy() \n",
    "    \n",
    "    # Calculate Market Equity = Price($) x shares outstanding(thousands) / thousands (in billion)\n",
    "    dcrsp['me'] = dcrsp['prc'].abs() * dcrsp['shrout'] * 1e-3 \n",
    "    \n",
    "    dcrsp = dcrsp[['date','permno','ret','me']].sort_values(by=['date','permno']).reset_index(drop=True).copy()   \n",
    "    dcrsp = dcrsp[dcrsp['me'].notna()].copy() \n",
    "    \n",
    "    # Calculate lagged market equity\n",
    "    dcrsp['Lme'] = dcrsp[['permno','me']].groupby('permno').shift(1)\n",
    "    \n",
    "    dcrsp = dcrsp[dcrsp['Lme'] > 0].reset_index(drop=True).copy()\n",
    "    \n",
    "    # Sort date by date\n",
    "    dcrsp = dcrsp.sort_values(['date']).reset_index(drop=True).copy()\n",
    "    \n",
    "    # Calculate value weight using lagged market equity \n",
    "    dcrsp = dcrsp.merge(dcrsp[['date','Lme']].groupby(['date']).sum()\\\n",
    "                        .reset_index().rename(columns={\"Lme\":\"LmeTotal\"}),on=['date'],\n",
    "                        how='left')\n",
    "\n",
    "    # Calculate monthly value weighted return for each stock\n",
    "    dcrsp['vwret1m'] = dcrsp['ret'] * (dcrsp['Lme'] / dcrsp['LmeTotal']) \n",
    "\n",
    "    # Calculate monthly vw, lagged return by sum monthly per stocks return\n",
    "    # Calculate equal weighted by simply take average of return in one month for all stocks\n",
    "    dcrsp = dcrsp[['date', 'vwret1m', 'Lme', 'ret']].groupby(['date'])\\\n",
    "                            .agg({'vwret1m': 'sum','Lme': 'sum','ret':'mean'}).reset_index()\\\n",
    "                            .rename(columns={'vwret1m': 'Stock_Vw_Ret', 'Lme': 'Stock_lag_MV', 'ret' : \"Stock_Ew_Ret\" })\n",
    "    \n",
    "    dcrsp = dcrsp[(dcrsp['date'].dt.year>1925) & (dcrsp['date'].dt.year<2024)].copy()    \n",
    "    # Creat Year Variable for output\n",
    "    dcrsp['Year'] = dcrsp['date'].dt.year\n",
    "    \n",
    "    # Creat Month Variable for output\n",
    "    dcrsp['Month'] = dcrsp['date'].dt.month\n",
    "    \n",
    "    # Output\n",
    "    dcrsp = dcrsp[['Year','Month','Stock_lag_MV',\"Stock_Ew_Ret\",'Stock_Vw_Ret']]\n",
    "    \n",
    "    return dcrsp"
   ]
  },
  {
   "cell_type": "code",
   "execution_count": null,
   "id": "2500e209",
   "metadata": {},
   "outputs": [],
   "source": []
  },
  {
   "cell_type": "code",
   "execution_count": 8,
   "id": "98b1c319-d754-4d4c-a99e-93fd5904848a",
   "metadata": {
    "tags": []
   },
   "outputs": [
    {
     "name": "stdout",
     "output_type": "stream",
     "text": [
      "Year              int32\n",
      "Month             int32\n",
      "Stock_lag_MV    float64\n",
      "Stock_Ew_Ret    float64\n",
      "Stock_Vw_Ret    float64\n",
      "dtype: object\n"
     ]
    }
   ],
   "source": [
    "Monthly_CRSP_Stocks = PS1_Q1(CRSP_Stocks)\n",
    "# Store data to data folder\n",
    "Monthly_CRSP_Stocks.to_pickle(data_folder + 'Monthly_CRSP_Stocks.pkl')\n",
    "print(Monthly_CRSP_Stocks.dtypes)"
   ]
  },
  {
   "cell_type": "code",
   "execution_count": 9,
   "id": "8aece720-ec95-40c6-83f3-8fc1aa8eb879",
   "metadata": {
    "tags": []
   },
   "outputs": [
    {
     "name": "stdout",
     "output_type": "stream",
     "text": [
      "   Year  Month  Stock_lag_MV  Stock_Ew_Ret  Stock_Vw_Ret\n",
      "0  1926      2  26789.658062     -0.054045     -0.033337\n",
      "1  1926      3  25996.476438     -0.096528     -0.064638\n",
      "2  1926      4  24078.318125      0.031147      0.036776\n",
      "3  1926      5  25235.879875      0.000905      0.012319\n",
      "4  1926      6  25244.145625      0.049799      0.054652\n"
     ]
    }
   ],
   "source": [
    "print(Monthly_CRSP_Stocks.head(5))"
   ]
  },
  {
   "cell_type": "markdown",
   "id": "9b06268e-9b34-4516-8c62-31eb7df959e1",
   "metadata": {},
   "source": [
    "## Q2"
   ]
  },
  {
   "cell_type": "code",
   "execution_count": 10,
   "id": "267ed282-2947-480b-a89e-ec48ecf8860a",
   "metadata": {
    "tags": []
   },
   "outputs": [],
   "source": [
    "# Download FF data\n",
    "FF3 = pandas_datareader.famafrench.FamaFrenchReader('F-F_Research_Data_Factors', start='1926', end='2024')\n",
    "FF3 = FF3.read()[0] / 100  # Monthly data\n",
    "FF3.columns = ['MktRF', 'SMB', 'HML', 'RF']\n",
    "FF3 = FF3.reset_index().rename(columns={\"Date\": \"date\"}).copy()\n",
    "\n",
    "# Set date column to datetime format\n",
    "FF3['date'] = pd.DataFrame(FF3[['date']].values.astype('datetime64[ns]')) + MonthEnd(0)\n",
    "# Prepare for input\n",
    "# Creat Year Variable\n",
    "FF3['Year'] = FF3['date'].dt.year   \n",
    "# Creat Month Variable\n",
    "FF3['Month'] = FF3['date'].dt.month\n",
    "\n",
    "#Only keep columns needed\n",
    "FF3 = FF3[['Year','Month','MktRF','SMB','HML','RF']].copy()"
   ]
  },
  {
   "cell_type": "code",
   "execution_count": 11,
   "id": "35e5d8c2-b6ae-483e-96c9-d39d58a853b3",
   "metadata": {
    "tags": []
   },
   "outputs": [],
   "source": []
  },
  {
   "cell_type": "code",
   "execution_count": 12,
   "id": "6edc104f-4ac5-488c-a855-d338fb218dfa",
   "metadata": {
    "tags": []
   },
   "outputs": [],
   "source": [
    "# define a function to calculate required statistics\n",
    "def calulation(data):\n",
    "    AM = round(data.mean()*1200,2) # in percentage\n",
    "    AS = round(data.std()*np.sqrt(12)*100,2) # in percentage\n",
    "    SR = round(AM/AS,2)\n",
    "    SK = round(data.skew(),2)\n",
    "    KT = round(data.kurtosis(),2)\n",
    "    return [AM,AS,SR,SK,KT]"
   ]
  },
  {
   "cell_type": "code",
   "execution_count": 13,
   "id": "a9fc176f-f810-4570-a6b1-c0391440e176",
   "metadata": {
    "tags": []
   },
   "outputs": [],
   "source": [
    "def PS1_Q2(Q1,FF):\n",
    "    # Specify requried column names and row names\n",
    "    rowname = ['Annualized Mean(%)', 'Annualized Standard Deviation(%)',\\\n",
    "               'Annualized Sharpe Ratio', 'Skewness','Excess Kurtosis']\n",
    "    colname = ['Estimated FF Market Excess Return', 'Actual FF Market Excess Return']\n",
    "    # Creat a dataframe with row,colnames\n",
    "    df = pd.DataFrame(np.nan, index=rowname, columns=colname)\n",
    "    \n",
    "    # Merge two times series and keep all columns in both datasets\n",
    "    Q2 = pd.merge(Q1,FF,on=['Month','Year'],how='outer').copy()\n",
    "    \n",
    "    # Calculate estimated excess returns\n",
    "    Q2['excess'] = Q2['Stock_Vw_Ret'] - Q2['RF']\n",
    "    \n",
    "    # Make sure only include data from July 1926 to December 2023\n",
    "    start = np.where((Q2['Year'] == 1926) & (Q2['Month'] == 7))[0][0]\n",
    "    end = np.where((Q2['Year'] == 2023) & (Q2['Month'] == 12))[0][0]\n",
    "    Q2 = Q2[start:(end+1)].copy()\n",
    "    df['Estimated FF Market Excess Return'] = calulation(Q2['excess'])\n",
    "    df['Actual FF Market Excess Return'] = calulation(Q2['MktRF'])\n",
    "    return df"
   ]
  },
  {
   "cell_type": "code",
   "execution_count": 14,
   "id": "d8abf387-980d-4282-98de-a57d683faa82",
   "metadata": {
    "tags": []
   },
   "outputs": [
    {
     "data": {
      "text/html": [
       "<div>\n",
       "<style scoped>\n",
       "    .dataframe tbody tr th:only-of-type {\n",
       "        vertical-align: middle;\n",
       "    }\n",
       "\n",
       "    .dataframe tbody tr th {\n",
       "        vertical-align: top;\n",
       "    }\n",
       "\n",
       "    .dataframe thead th {\n",
       "        text-align: right;\n",
       "    }\n",
       "</style>\n",
       "<table border=\"1\" class=\"dataframe\">\n",
       "  <thead>\n",
       "    <tr style=\"text-align: right;\">\n",
       "      <th></th>\n",
       "      <th>Estimated FF Market Excess Return</th>\n",
       "      <th>Actual FF Market Excess Return</th>\n",
       "    </tr>\n",
       "  </thead>\n",
       "  <tbody>\n",
       "    <tr>\n",
       "      <th>Annualized Mean(%)</th>\n",
       "      <td>8.14</td>\n",
       "      <td>8.14</td>\n",
       "    </tr>\n",
       "    <tr>\n",
       "      <th>Annualized Standard Deviation(%)</th>\n",
       "      <td>18.50</td>\n",
       "      <td>18.51</td>\n",
       "    </tr>\n",
       "    <tr>\n",
       "      <th>Annualized Sharpe Ratio</th>\n",
       "      <td>0.44</td>\n",
       "      <td>0.44</td>\n",
       "    </tr>\n",
       "    <tr>\n",
       "      <th>Skewness</th>\n",
       "      <td>0.16</td>\n",
       "      <td>0.16</td>\n",
       "    </tr>\n",
       "    <tr>\n",
       "      <th>Excess Kurtosis</th>\n",
       "      <td>7.44</td>\n",
       "      <td>7.41</td>\n",
       "    </tr>\n",
       "  </tbody>\n",
       "</table>\n",
       "</div>"
      ],
      "text/plain": [
       "                                  Estimated FF Market Excess Return  \\\n",
       "Annualized Mean(%)                                             8.14   \n",
       "Annualized Standard Deviation(%)                              18.50   \n",
       "Annualized Sharpe Ratio                                        0.44   \n",
       "Skewness                                                       0.16   \n",
       "Excess Kurtosis                                                7.44   \n",
       "\n",
       "                                  Actual FF Market Excess Return  \n",
       "Annualized Mean(%)                                          8.14  \n",
       "Annualized Standard Deviation(%)                           18.51  \n",
       "Annualized Sharpe Ratio                                     0.44  \n",
       "Skewness                                                    0.16  \n",
       "Excess Kurtosis                                             7.41  "
      ]
     },
     "execution_count": 14,
     "metadata": {},
     "output_type": "execute_result"
    }
   ],
   "source": [
    "PS1_Q2(Monthly_CRSP_Stocks,FF3)"
   ]
  },
  {
   "cell_type": "code",
   "execution_count": 15,
   "id": "b15d04fc-9d29-4ccb-b40a-184f4396e8ac",
   "metadata": {
    "tags": []
   },
   "outputs": [],
   "source": [
    "def PS1_Q3(Q1,FF):\n",
    "    Q3 = pd.merge(Q1,FF,on=['Month','Year'],how='outer').copy()\n",
    "    Q3['excess'] = Q3['Stock_Vw_Ret'] - Q3['RF']\n",
    "    \n",
    "    # Make sure only include data from July 1926 to December 2023\n",
    "    start = np.where((Q3['Year'] == 1926) & (Q3['Month'] == 7))[0][0]\n",
    "    end = np.where((Q3['Year'] == 2023) & (Q3['Month'] == 12))[0][0]\n",
    "    Q3 = Q3[start:(end+1)].copy()\n",
    "    \n",
    "    correlation = round(Q3['excess'].corr(Q3['MktRF']),8)\n",
    "    max_diff = round(max(abs(Q3['excess']-Q3['MktRF'])),8)\n",
    "    \n",
    "    return [correlation,max_diff]"
   ]
  },
  {
   "cell_type": "code",
   "execution_count": 16,
   "id": "0f7eec66-f96f-48c0-b8ea-72f1afb3f561",
   "metadata": {
    "tags": []
   },
   "outputs": [
    {
     "data": {
      "text/plain": [
       "[0.99998891, 0.00269598]"
      ]
     },
     "execution_count": 16,
     "metadata": {},
     "output_type": "execute_result"
    }
   ],
   "source": [
    "PS1_Q3(Monthly_CRSP_Stocks,FF3)"
   ]
  },
  {
   "cell_type": "code",
   "execution_count": null,
   "id": "7fca8785-be23-4fe3-89a9-e9a6e8547e8d",
   "metadata": {},
   "outputs": [],
   "source": []
  },
  {
   "cell_type": "code",
   "execution_count": null,
   "id": "96cfb1e4-cd9c-487d-8596-1438a3290560",
   "metadata": {},
   "outputs": [],
   "source": []
  }
 ],
 "metadata": {
  "kernelspec": {
   "display_name": "Python 3",
   "language": "python",
   "name": "python3"
  },
  "language_info": {
   "codemirror_mode": {
    "name": "ipython",
    "version": 3
   },
   "file_extension": ".py",
   "mimetype": "text/x-python",
   "name": "python",
   "nbconvert_exporter": "python",
   "pygments_lexer": "ipython3",
   "version": "3.11.3"
  }
 },
 "nbformat": 4,
 "nbformat_minor": 5
}
