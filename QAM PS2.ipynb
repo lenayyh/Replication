{
 "cells": [
  {
   "cell_type": "code",
   "execution_count": 1,
   "id": "5eb292f0-054a-4476-b74d-3dab05557e66",
   "metadata": {
    "tags": []
   },
   "outputs": [],
   "source": [
    "import os\n",
    "import pandas as pd\n",
    "import numpy as np\n",
    "import wrds\n",
    "from random import *\n",
    "from dateutil.relativedelta import *\n",
    "from pandas.tseries.offsets import *\n",
    "from scipy import stats\n",
    "import matplotlib.pyplot as plt\n",
    "import pandas_datareader\n",
    "import datetime\n",
    "import warnings\n",
    "from scipy.optimize import fmin\n",
    "warnings.filterwarnings('ignore', category=FutureWarning)"
   ]
  },
  {
   "cell_type": "code",
   "execution_count": 2,
   "id": "a0db8c2c-8f01-44d9-900f-a5ed4255dc7f",
   "metadata": {
    "tags": []
   },
   "outputs": [],
   "source": [
    "data_folder = '/Users/chengxinxiangye/Desktop/Quant Asset/' "
   ]
  },
  {
   "cell_type": "code",
   "execution_count": 3,
   "id": "a16fc984-e467-4270-bc37-2c34c0934d81",
   "metadata": {
    "tags": []
   },
   "outputs": [],
   "source": [
    "#Load Bond Data from folder\n",
    "CRSP_Bonds = pd.read_pickle(data_folder + 'bonds_PS2.pkl')"
   ]
  },
  {
   "cell_type": "code",
   "execution_count": 4,
   "id": "33d24b93-1683-40b3-b3a9-e62f6119dea4",
   "metadata": {
    "tags": []
   },
   "outputs": [],
   "source": [
    "def PS2_Q1(df):\n",
    "    # Restrict time interval of Bond\n",
    "    df = df[(df['date'].dt.year>1925) & (df['date'].dt.year<2024)].copy()\n",
    "    \n",
    "    # Sort data\n",
    "    df = df.sort_values(['idCRSP', 'date']).reset_index(drop=True).copy()\n",
    "    # Drop missing returns\n",
    "    df = df[df['ret'].notna()].reset_index(drop=True).copy()\n",
    "\n",
    "    # Calculate lagged market equity\n",
    "    df['Lme'] = df[['idCRSP','me']].groupby('idCRSP').shift(1)\n",
    "    \n",
    "    # Drop missing market quity after we lagged\n",
    "    df = df[df['Lme'].notna()].reset_index(drop=True).copy()\n",
    "\n",
    "    # Calculate value weight using lagged market equity \n",
    "    df = df.merge(df[['idCRSP','date','Lme']].groupby(['date']).sum()\\\n",
    "                        .reset_index().rename(columns={\"Lme\":\"LmeTotal\"}),on=['date'],\n",
    "                        how='left')\n",
    "\n",
    "    # Calculate monthly value weighted return for each Bond\n",
    "    df['vwret'] = df['ret'] * (df['Lme'] / df['LmeTotal']) \n",
    "\n",
    "    # Calculate monthly vw, lagged return by sum monthly per bond return\n",
    "    # Calculate equal weighted by simply take average of return in one month for all bonds\n",
    "    df = df[['date', 'vwret', 'Lme', 'ret']].groupby(['date'])\\\n",
    "                            .agg({'vwret': 'sum','Lme': 'sum','ret':'mean'}).reset_index()\\\n",
    "                            .rename(columns={'vwret': 'Bond_Vw_Ret', 'Lme': 'Bond_lag_MV', 'ret' : \"Bond_Ew_Ret\" })\n",
    "\n",
    "    # Creat Year Variable for output\n",
    "    df['Year'] = df['date'].dt.year\n",
    "\n",
    "    # Creat Month Variable for output\n",
    "    df['Month'] = df['date'].dt.month\n",
    "\n",
    "    # Output only required columns\n",
    "    result = df[['Year','Month','Bond_lag_MV',\"Bond_Ew_Ret\",'Bond_Vw_Ret']].copy()\n",
    "\n",
    "    return result"
   ]
  },
  {
   "cell_type": "code",
   "execution_count": 5,
   "id": "679101f4-7ae2-4d18-a717-03de96e66617",
   "metadata": {
    "tags": []
   },
   "outputs": [],
   "source": [
    "Monthly_CRSP_Bonds = PS2_Q1(CRSP_Bonds)"
   ]
  },
  {
   "cell_type": "code",
   "execution_count": 6,
   "id": "b92e28c3-6ae6-4d5c-a1c9-a0e2b8e626db",
   "metadata": {
    "tags": []
   },
   "outputs": [
    {
     "name": "stdout",
     "output_type": "stream",
     "text": [
      "Year             int32\n",
      "Month            int32\n",
      "Bond_lag_MV    float64\n",
      "Bond_Ew_Ret    float64\n",
      "Bond_Vw_Ret    float64\n",
      "dtype: object\n",
      "   Year  Month  Bond_lag_MV  Bond_Ew_Ret  Bond_Vw_Ret\n",
      "0  1926      2      19502.0     0.003621     0.003844\n",
      "1  1926      3      18884.0     0.003812     0.003588\n",
      "2  1926      4      18736.0     0.003740     0.006393\n",
      "3  1926      5      19227.0     0.002146     0.002629\n",
      "4  1926      6      18892.0     0.004319     0.003755\n"
     ]
    }
   ],
   "source": [
    "print(Monthly_CRSP_Bonds.dtypes)\n",
    "print(Monthly_CRSP_Bonds.head(5))"
   ]
  },
  {
   "cell_type": "code",
   "execution_count": 7,
   "id": "1fb14db7-202d-4cfc-a6a4-9433ea0b38b6",
   "metadata": {
    "tags": []
   },
   "outputs": [],
   "source": [
    "#Load Stock and T-bill Data from folder\n",
    "Monthly_CRSP_Riskless = pd.read_pickle(data_folder + 'rf_PS2.pkl')\n",
    "Monthly_CRSP_Stocks = pd.read_pickle(data_folder + 'mkt_csrp_PS2.pkl')"
   ]
  },
  {
   "cell_type": "code",
   "execution_count": 8,
   "id": "7ba0a05a-7461-4813-8c02-d99b8f7175e3",
   "metadata": {
    "tags": []
   },
   "outputs": [],
   "source": [
    "def PS2_Q2(Stocks, Bonds, Rf):\n",
    "    # Sort data\n",
    "    Stocks = Stocks.sort_values(['date']).reset_index(drop=True).copy()\n",
    "    Rf = Rf.sort_values(['date']).reset_index(drop=True).copy()\n",
    "\n",
    "    # Adjust data to be lagged and unit with million\n",
    "    Stocks['Stock_lag_MV'] = (Stocks['Stock_lag_MV'] * 1e-3).shift(1)\n",
    "    Stocks = Stocks[Stocks['Stock_lag_MV']>0].copy()\n",
    "    \n",
    "    # First merge stock data and riskfree data because both have data column\n",
    "    Q1 = pd.merge(Stocks,Rf,on=['date'],how='outer').copy()\n",
    "    \n",
    "    # Then create Year and Month column to merge with Bonds data in Q1\n",
    "    Q1['Year'] = Q1['date'].dt.year\n",
    "    Q1['Month'] = Q1['date'].dt.month\n",
    "    \n",
    "    # Merge Bond and other two data with Month and Year\n",
    "    Q2 = pd.merge(Q1,Bonds,on=['Month','Year'],how='outer').copy()\n",
    "    \n",
    "    # Restrict time interval \n",
    "    Q2 = Q2[(Q2['date'].dt.year>1925) & (Q2['date'].dt.year<2024)].copy()\n",
    "    \n",
    "    # Sort date by date and drop missing values\n",
    "    Q2 = Q2.sort_values(['date']).reset_index(drop=True).dropna().copy()\n",
    "    \n",
    "    # Calculate excess value weighted return for bonds and stocks(Use rf 30 since we calculated vw return monthly)\n",
    "    Q2['Stock_Excess_Vw_Ret'] = Q2['Stock_Vw_Ret'] - Q2['rf30']\n",
    "    Q2['Bond_Excess_Vw_Ret'] = Q2['Bond_Vw_Ret'] - Q2['rf30']\n",
    "    \n",
    "    # Output only required columns\n",
    "    Q2 = Q2[['Year','Month','Stock_lag_MV','Stock_Excess_Vw_Ret','Bond_lag_MV','Bond_Excess_Vw_Ret']].copy()\n",
    "    \n",
    "    return Q2"
   ]
  },
  {
   "cell_type": "code",
   "execution_count": 9,
   "id": "c0dfe4da-ccfc-40f6-bd5c-2d482aa06a9d",
   "metadata": {
    "tags": []
   },
   "outputs": [
    {
     "name": "stdout",
     "output_type": "stream",
     "text": [
      "Year                     int32\n",
      "Month                    int32\n",
      "Stock_lag_MV           float64\n",
      "Stock_Excess_Vw_Ret    float64\n",
      "Bond_lag_MV            float64\n",
      "Bond_Excess_Vw_Ret     float64\n",
      "dtype: object\n",
      "   Year  Month  Stock_lag_MV  Stock_Excess_Vw_Ret  Bond_lag_MV  \\\n",
      "1  1926      2    27624.2408            -0.035814      19502.0   \n",
      "2  1926      3    26752.0641            -0.066780      18884.0   \n",
      "3  1926      4    25083.1734             0.033957      18736.0   \n",
      "4  1926      5    25886.7438             0.011753      19227.0   \n",
      "5  1926      6    26187.8079             0.050205      18892.0   \n",
      "\n",
      "   Bond_Excess_Vw_Ret  \n",
      "1            0.001076  \n",
      "2            0.000810  \n",
      "3            0.003321  \n",
      "4            0.002287  \n",
      "5            0.000296  \n"
     ]
    }
   ],
   "source": [
    "Monthly_CRSP_Univers = PS2_Q2(Monthly_CRSP_Stocks,Monthly_CRSP_Bonds,Monthly_CRSP_Riskless)\n",
    "print(Monthly_CRSP_Univers.dtypes)\n",
    "print(Monthly_CRSP_Univers.head(5))"
   ]
  },
  {
   "cell_type": "code",
   "execution_count": 10,
   "id": "e01b1a58-9ef1-4581-baea-9ed186e03d02",
   "metadata": {
    "tags": []
   },
   "outputs": [],
   "source": [
    "def PS2_Q3(Q2):\n",
    "    Q3 = Q2.copy()\n",
    "\n",
    "    '''\n",
    "    VW portfolio: Value-weighted portfolio is a market portfolio weighted by total market capitalization \n",
    "    and rebalanced monthly to maintain value weights.\n",
    "    '''\n",
    "    \n",
    "    # weights = lagged market value / total market value\n",
    "    Q3['Stock_W1'] = Q3['Stock_lag_MV'] / (Q3['Stock_lag_MV'] + Q3['Bond_lag_MV'])\n",
    "    Q3['Bond_W1'] = Q3['Bond_lag_MV'] / (Q3['Stock_lag_MV'] + Q3['Bond_lag_MV'])\n",
    "    \n",
    "    # Excess value weighted return = weight of bond * bond excess return + weight of stock * stock excess return\n",
    "    Q3['Excess_Vw_Ret'] = Q3['Stock_W1'] * Q3['Stock_Excess_Vw_Ret'] + Q3['Bond_W1'] * Q3['Bond_Excess_Vw_Ret']\n",
    "\n",
    "    # 60% weight of stock and 40% weight of bond\n",
    "    Q3['Excess_60_40_Ret'] = 0.6 * Q3['Stock_Excess_Vw_Ret'] + 0.4 * Q3['Bond_Excess_Vw_Ret']\n",
    "\n",
    "    '''\n",
    "    Unlevered_RP:\n",
    "    Weight for assets are inverse volatility times k;\n",
    "    K is set to be inverse of sum of inversed volatility for each asset;\n",
    "    Volatility calculated using rolling window in 3 year of excess return until t-1\n",
    "    '''\n",
    "    Q3['Stock_inverse_sigma_hat'] = 1/(Q3['Stock_Excess_Vw_Ret'].shift(1).rolling(window=12*3).std())\n",
    "    Q3['Bond_inverse_sigma_hat'] = 1/(Q3['Bond_Excess_Vw_Ret'].shift(1).rolling(window=12*3).std())\n",
    "    Q3['Unlevered_k'] = 1/(Q3['Stock_inverse_sigma_hat'] + Q3['Bond_inverse_sigma_hat'])\n",
    "    Q3['Excess_Unlevered_RP_Ret'] = Q3['Unlevered_k'] * Q3['Stock_inverse_sigma_hat'] * Q3['Stock_Excess_Vw_Ret'] + Q3['Unlevered_k'] * Q3['Bond_inverse_sigma_hat'] * Q3['Bond_Excess_Vw_Ret'] \n",
    "\n",
    "    # levered_RP\n",
    "    # Benchmark volatility\n",
    "    Q3['BM_Vol'] = Q3['Excess_Vw_Ret'].std()\n",
    "    # Define a function to find k that minimize difference between vol of portfolio and benchmark\n",
    "    def f(k, Q3):\n",
    "        levered_vol = (k * (Q3['Stock_inverse_sigma_hat'] * Q3['Stock_Excess_Vw_Ret'] + \n",
    "                           Q3['Bond_inverse_sigma_hat'] * Q3['Bond_Excess_Vw_Ret'])).std()\n",
    "        differences = (Q3['BM_Vol'] - levered_vol).dropna()\n",
    "        return np.sum(differences ** 2)\n",
    "    \n",
    "    #find the target k\n",
    "    result = fmin(f, [1], (Q3,),  xtol=1e-10, ftol=1e-10)\n",
    "\n",
    "    # Define \n",
    "    Q3['Levered_k'] = result[0]\n",
    "    Q3['Excess_Levered_RP_Ret'] = Q3['Levered_k'] * Q3['Stock_inverse_sigma_hat'] * Q3['Stock_Excess_Vw_Ret'] + Q3['Levered_k'] * Q3['Bond_inverse_sigma_hat'] * Q3['Bond_Excess_Vw_Ret']\n",
    "\n",
    "    \n",
    "    # only keep requried\n",
    "\n",
    "    Q3 = Q3[[\"Year\", \"Month\", \"Stock_Excess_Vw_Ret\", \"Bond_Excess_Vw_Ret\", \"Excess_Vw_Ret\",\\\n",
    "             \"Excess_60_40_Ret\", \"Stock_inverse_sigma_hat\", \"Bond_inverse_sigma_hat\",\\\n",
    "             \"Unlevered_k\", \"Excess_Unlevered_RP_Ret\", \"Levered_k\", \"Excess_Levered_RP_Ret\"]].copy()\n",
    "\n",
    "    return Q3"
   ]
  },
  {
   "cell_type": "code",
   "execution_count": 11,
   "id": "e5d231c4-191f-407a-a2a2-680853d61fa9",
   "metadata": {
    "tags": []
   },
   "outputs": [
    {
     "name": "stdout",
     "output_type": "stream",
     "text": [
      "Optimization terminated successfully.\n",
      "         Current function value: 0.000000\n",
      "         Iterations: 37\n",
      "         Function evaluations: 74\n",
      "Year                         int32\n",
      "Month                        int32\n",
      "Stock_Excess_Vw_Ret        float64\n",
      "Bond_Excess_Vw_Ret         float64\n",
      "Excess_Vw_Ret              float64\n",
      "Excess_60_40_Ret           float64\n",
      "Stock_inverse_sigma_hat    float64\n",
      "Bond_inverse_sigma_hat     float64\n",
      "Unlevered_k                float64\n",
      "Excess_Unlevered_RP_Ret    float64\n",
      "Levered_k                  float64\n",
      "Excess_Levered_RP_Ret      float64\n",
      "dtype: object\n",
      "   Year  Month  Stock_Excess_Vw_Ret  Bond_Excess_Vw_Ret  Excess_Vw_Ret  \\\n",
      "1  1926      2            -0.035814            0.001076      -0.020548   \n",
      "2  1926      3            -0.066780            0.000810      -0.038812   \n",
      "3  1926      4             0.033957            0.003321       0.020858   \n",
      "4  1926      5             0.011753            0.002287       0.007719   \n",
      "5  1926      6             0.050205            0.000296       0.029289   \n",
      "\n",
      "   Excess_60_40_Ret  Stock_inverse_sigma_hat  Bond_inverse_sigma_hat  \\\n",
      "1         -0.021058                      NaN                     NaN   \n",
      "2         -0.039744                      NaN                     NaN   \n",
      "3          0.021702                      NaN                     NaN   \n",
      "4          0.007966                      NaN                     NaN   \n",
      "5          0.030241                      NaN                     NaN   \n",
      "\n",
      "   Unlevered_k  Excess_Unlevered_RP_Ret  Levered_k  Excess_Levered_RP_Ret  \n",
      "1          NaN                      NaN   0.021015                    NaN  \n",
      "2          NaN                      NaN   0.021015                    NaN  \n",
      "3          NaN                      NaN   0.021015                    NaN  \n",
      "4          NaN                      NaN   0.021015                    NaN  \n",
      "5          NaN                      NaN   0.021015                    NaN  \n"
     ]
    }
   ],
   "source": [
    "Port_rets = PS2_Q3(Monthly_CRSP_Univers)\n",
    "print(Port_rets.dtypes)\n",
    "print(Port_rets.head(5))"
   ]
  },
  {
   "cell_type": "code",
   "execution_count": 12,
   "id": "49b1813a-a9f5-4142-8f89-d130e6a735d1",
   "metadata": {
    "tags": []
   },
   "outputs": [],
   "source": [
    "def calulation(data):\n",
    "    AM = round(data.mean()*1200,2) # in percentage\n",
    "    # Assume our population mean is 0 to calculate t-stat\n",
    "    T = round((data.mean())/(data.std()/np.sqrt(len(data))),2)\n",
    "    AS = round(data.std()*np.sqrt(12)*100,2) # in percentage\n",
    "    SR = round(AM/AS,2)\n",
    "    SK = round(data.skew(),2)\n",
    "    KT = round(data.kurtosis(),2)\n",
    "    return [AM,T,AS,SR,SK,KT]"
   ]
  },
  {
   "cell_type": "code",
   "execution_count": 17,
   "id": "bf7d1e26-bb8e-4143-b3bf-d055dda3f480",
   "metadata": {
    "tags": []
   },
   "outputs": [],
   "source": [
    "def PS2_Q4(Q3):\n",
    "    # Specify requried column names and row names\n",
    "    colname = ['Excess Return(%)','t-stat', 'Volatility(%)',\\\n",
    "               'Sharpe Ratio', 'Skewness','Excess Kurtosis']\n",
    "    rowname = [\"CRSP stocks\", \"CRSP bonds\", \"Value-weighted portfolio\",\\\n",
    "                \"60/40 portfolio\", \"RP, unlevered\", \"RP\", \"RP minus value-weighted\",\\\n",
    "                \"RP minus 60/40\"]\n",
    "    # Creat a dataframe with row,colnames\n",
    "    df = pd.DataFrame(np.nan, index=rowname, columns=colname)\n",
    "    \n",
    "    # Make sure only include data from Jan 1929 to June 2010\n",
    "    start = np.where((Q3['Year'] == 1929) & (Q3['Month'] == 1))[0][0]\n",
    "    end = np.where((Q3['Year'] == 2010) & (Q3['Month'] == 6))[0][0]\n",
    "    Q3 = Q3[start:(end+1)].copy()\n",
    "\n",
    "    # Calculate data to each column in dataframe\n",
    "    df.loc[\"CRSP stocks\"] = calulation(Q3['Stock_Excess_Vw_Ret'])\n",
    "    df.loc[\"CRSP bonds\"] = calulation(Q3[\"Bond_Excess_Vw_Ret\"])\n",
    "    df.loc[\"Value-weighted portfolio\"] = calulation(Q3['Excess_Vw_Ret'])\n",
    "    df.loc[\"60/40 portfolio\"] = calulation(Q3['Excess_60_40_Ret'])\n",
    "    df.loc[\"RP, unlevered\"] = calulation(Q3['Excess_Unlevered_RP_Ret'])\n",
    "    df.loc[\"RP\"] = calulation(Q3['Excess_Levered_RP_Ret'])\n",
    "    df.loc[\"RP minus value-weighted\"] = calulation(Q3['Excess_Levered_RP_Ret'] - Q3['Excess_Vw_Ret'])\n",
    "    df.loc[\"RP minus 60/40\"] = calulation(Q3['Excess_Levered_RP_Ret'] - Q3['Excess_60_40_Ret'])\n",
    "    return(df)"
   ]
  },
  {
   "cell_type": "code",
   "execution_count": 18,
   "id": "a33eae53-814c-4f7c-9aca-240dbedae6b8",
   "metadata": {
    "tags": []
   },
   "outputs": [
    {
     "data": {
      "text/html": [
       "<div>\n",
       "<style scoped>\n",
       "    .dataframe tbody tr th:only-of-type {\n",
       "        vertical-align: middle;\n",
       "    }\n",
       "\n",
       "    .dataframe tbody tr th {\n",
       "        vertical-align: top;\n",
       "    }\n",
       "\n",
       "    .dataframe thead th {\n",
       "        text-align: right;\n",
       "    }\n",
       "</style>\n",
       "<table border=\"1\" class=\"dataframe\">\n",
       "  <thead>\n",
       "    <tr style=\"text-align: right;\">\n",
       "      <th></th>\n",
       "      <th>Excess Return(%)</th>\n",
       "      <th>t-stat</th>\n",
       "      <th>Volatility(%)</th>\n",
       "      <th>Sharpe Ratio</th>\n",
       "      <th>Skewness</th>\n",
       "      <th>Excess Kurtosis</th>\n",
       "    </tr>\n",
       "  </thead>\n",
       "  <tbody>\n",
       "    <tr>\n",
       "      <th>CRSP stocks</th>\n",
       "      <td>6.71</td>\n",
       "      <td>3.16</td>\n",
       "      <td>19.15</td>\n",
       "      <td>0.35</td>\n",
       "      <td>0.22</td>\n",
       "      <td>7.84</td>\n",
       "    </tr>\n",
       "    <tr>\n",
       "      <th>CRSP bonds</th>\n",
       "      <td>1.40</td>\n",
       "      <td>4.32</td>\n",
       "      <td>2.93</td>\n",
       "      <td>0.48</td>\n",
       "      <td>0.23</td>\n",
       "      <td>4.19</td>\n",
       "    </tr>\n",
       "    <tr>\n",
       "      <th>Value-weighted portfolio</th>\n",
       "      <td>3.55</td>\n",
       "      <td>2.62</td>\n",
       "      <td>12.25</td>\n",
       "      <td>0.29</td>\n",
       "      <td>-0.56</td>\n",
       "      <td>4.60</td>\n",
       "    </tr>\n",
       "    <tr>\n",
       "      <th>60/40 portfolio</th>\n",
       "      <td>4.59</td>\n",
       "      <td>3.54</td>\n",
       "      <td>11.69</td>\n",
       "      <td>0.39</td>\n",
       "      <td>0.23</td>\n",
       "      <td>7.58</td>\n",
       "    </tr>\n",
       "    <tr>\n",
       "      <th>RP, unlevered</th>\n",
       "      <td>2.10</td>\n",
       "      <td>5.08</td>\n",
       "      <td>3.72</td>\n",
       "      <td>0.56</td>\n",
       "      <td>0.07</td>\n",
       "      <td>2.63</td>\n",
       "    </tr>\n",
       "    <tr>\n",
       "      <th>RP</th>\n",
       "      <td>6.83</td>\n",
       "      <td>5.02</td>\n",
       "      <td>12.28</td>\n",
       "      <td>0.56</td>\n",
       "      <td>-0.41</td>\n",
       "      <td>2.00</td>\n",
       "    </tr>\n",
       "    <tr>\n",
       "      <th>RP minus value-weighted</th>\n",
       "      <td>3.32</td>\n",
       "      <td>3.17</td>\n",
       "      <td>9.47</td>\n",
       "      <td>0.35</td>\n",
       "      <td>0.07</td>\n",
       "      <td>3.58</td>\n",
       "    </tr>\n",
       "    <tr>\n",
       "      <th>RP minus 60/40</th>\n",
       "      <td>2.28</td>\n",
       "      <td>2.30</td>\n",
       "      <td>8.95</td>\n",
       "      <td>0.25</td>\n",
       "      <td>-0.69</td>\n",
       "      <td>6.31</td>\n",
       "    </tr>\n",
       "  </tbody>\n",
       "</table>\n",
       "</div>"
      ],
      "text/plain": [
       "                          Excess Return(%)  t-stat  Volatility(%)  \\\n",
       "CRSP stocks                           6.71    3.16          19.15   \n",
       "CRSP bonds                            1.40    4.32           2.93   \n",
       "Value-weighted portfolio              3.55    2.62          12.25   \n",
       "60/40 portfolio                       4.59    3.54          11.69   \n",
       "RP, unlevered                         2.10    5.08           3.72   \n",
       "RP                                    6.83    5.02          12.28   \n",
       "RP minus value-weighted               3.32    3.17           9.47   \n",
       "RP minus 60/40                        2.28    2.30           8.95   \n",
       "\n",
       "                          Sharpe Ratio  Skewness  Excess Kurtosis  \n",
       "CRSP stocks                       0.35      0.22             7.84  \n",
       "CRSP bonds                        0.48      0.23             4.19  \n",
       "Value-weighted portfolio          0.29     -0.56             4.60  \n",
       "60/40 portfolio                   0.39      0.23             7.58  \n",
       "RP, unlevered                     0.56      0.07             2.63  \n",
       "RP                                0.56     -0.41             2.00  \n",
       "RP minus value-weighted           0.35      0.07             3.58  \n",
       "RP minus 60/40                    0.25     -0.69             6.31  "
      ]
     },
     "execution_count": 18,
     "metadata": {},
     "output_type": "execute_result"
    }
   ],
   "source": [
    "result = PS2_Q4(Port_rets)\n",
    "result"
   ]
  }
 ],
 "metadata": {
  "kernelspec": {
   "display_name": "Python 3 (ipykernel)",
   "language": "python",
   "name": "python3"
  },
  "language_info": {
   "codemirror_mode": {
    "name": "ipython",
    "version": 3
   },
   "file_extension": ".py",
   "mimetype": "text/x-python",
   "name": "python",
   "nbconvert_exporter": "python",
   "pygments_lexer": "ipython3",
   "version": "3.11.3"
  }
 },
 "nbformat": 4,
 "nbformat_minor": 5
}
